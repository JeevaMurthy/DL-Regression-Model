{
 "cells": [
  {
   "cell_type": "code",
   "execution_count": 36,
   "id": "345221a2-14f0-4f41-bc60-d3659d89e123",
   "metadata": {},
   "outputs": [],
   "source": [
    "import torch\n",
    "import torch.nn as nn\n",
    "import numpy as np\n",
    "import matplotlib.pyplot as plt\n",
    "%matplotlib inline"
   ]
  },
  {
   "cell_type": "code",
   "execution_count": 37,
   "id": "84c4b981-b682-48df-a4c2-122189c26bd6",
   "metadata": {},
   "outputs": [
    {
     "data": {
      "text/plain": [
       "tensor([[ 1.],\n",
       "        [ 2.],\n",
       "        [ 3.],\n",
       "        [ 4.],\n",
       "        [ 5.],\n",
       "        [ 6.],\n",
       "        [ 7.],\n",
       "        [ 8.],\n",
       "        [ 9.],\n",
       "        [10.],\n",
       "        [11.],\n",
       "        [12.],\n",
       "        [13.],\n",
       "        [14.],\n",
       "        [15.],\n",
       "        [16.],\n",
       "        [17.],\n",
       "        [18.],\n",
       "        [19.],\n",
       "        [20.],\n",
       "        [21.],\n",
       "        [22.],\n",
       "        [23.],\n",
       "        [24.],\n",
       "        [25.],\n",
       "        [26.],\n",
       "        [27.],\n",
       "        [28.],\n",
       "        [29.],\n",
       "        [30.],\n",
       "        [31.],\n",
       "        [32.],\n",
       "        [33.],\n",
       "        [34.],\n",
       "        [35.],\n",
       "        [36.],\n",
       "        [37.],\n",
       "        [38.],\n",
       "        [39.],\n",
       "        [40.],\n",
       "        [41.],\n",
       "        [42.],\n",
       "        [43.],\n",
       "        [44.],\n",
       "        [45.],\n",
       "        [46.],\n",
       "        [47.],\n",
       "        [48.],\n",
       "        [49.],\n",
       "        [50.]])"
      ]
     },
     "execution_count": 37,
     "metadata": {},
     "output_type": "execute_result"
    }
   ],
   "source": [
    "X=torch.linspace(1,50,50).reshape(-1,1)\n",
    "X"
   ]
  },
  {
   "cell_type": "code",
   "execution_count": 38,
   "id": "c3b8b7d1-cbbf-477e-a05c-1b5ce95fe00b",
   "metadata": {},
   "outputs": [],
   "source": [
    "torch.manual_seed(71)\n",
    "e=torch.randint(-8,9,(50,1),dtype=torch.float)"
   ]
  },
  {
   "cell_type": "code",
   "execution_count": 39,
   "id": "3e04e2d1-fbd8-4d94-81b3-034e1579cf65",
   "metadata": {},
   "outputs": [],
   "source": [
    "y=2*X+1+e"
   ]
  },
  {
   "cell_type": "code",
   "execution_count": 40,
   "id": "e1d85c47-9883-4cf7-94dd-25f91e40aebf",
   "metadata": {},
   "outputs": [
    {
     "data": {
      "image/png": "[encoded data removed]",
      "text/plain": [
       "<Figure size 640x480 with 1 Axes>"
      ]
     },
     "metadata": {},
     "output_type": "display_data"
    }
   ],
   "source": [
    "plt.scatter(X.numpy(),y.numpy(),color='red')\n",
    "plt.xlabel('x')\n",
    "plt.ylabel('y')\n",
    "plt.title('Generated Data for Linear Regression')\n",
    "plt.show()"
   ]
  },
  {
   "cell_type": "code",
   "execution_count": 41,
   "id": "c180d588-94d3-4f20-881a-c7031bf0f515",
   "metadata": {},
   "outputs": [],
   "source": [
    "class Model(nn.Module):\n",
    "    def __init__(self,in_features,out_features):\n",
    "        super().__init__()\n",
    "        self.linear=nn.Linear(in_features,out_features)\n",
    "\n",
    "    def forward(self,x):\n",
    "        y_pred=self.linear(x)\n",
    "        return y_pred"
   ]
  },
  {
   "cell_type": "code",
   "execution_count": 42,
   "id": "ffcf1440-197c-4ce5-b284-71a8623199bc",
   "metadata": {},
   "outputs": [],
   "source": [
    "model=Model(1,1)"
   ]
  },
  {
   "cell_type": "code",
   "execution_count": 43,
   "id": "6eefa540-e9e9-498a-b911-67e997081df2",
   "metadata": {},
   "outputs": [
    {
     "data": {
      "text/plain": [
       "Model(\n",
       "  (linear): Linear(in_features=1, out_features=1, bias=True)\n",
       ")"
      ]
     },
     "execution_count": 43,
     "metadata": {},
     "output_type": "execute_result"
    }
   ],
   "source": [
    "model"
   ]
  },
  {
   "cell_type": "code",
   "execution_count": 44,
   "id": "7714eef3-6d30-4101-8642-eb79eb20ea57",
   "metadata": {},
   "outputs": [
    {
     "name": "stdout",
     "output_type": "stream",
     "text": [
      "Weight: -0.5688724517822266\n",
      "Bias: -0.03454399108886719\n"
     ]
    }
   ],
   "source": [
    "print('Weight:',model.linear.weight.item())\n",
    "print('Bias:',model.linear.bias.item())"
   ]
  },
  {
   "cell_type": "code",
   "execution_count": 45,
   "id": "54ce09bf-c365-47b9-bf33-c5874acd1e7e",
   "metadata": {},
   "outputs": [],
   "source": [
    "loss_function=nn.MSELoss()\n",
    "optimizer = torch.optim.SGD(model.parameters(),lr=0.0001)"
   ]
  },
  {
   "cell_type": "code",
   "execution_count": 46,
   "id": "1b4f8fab-bcb4-4d90-a326-9f78059efa56",
   "metadata": {},
   "outputs": [
    {
     "name": "stdout",
     "output_type": "stream",
     "text": [
      "epoch:  1 loss: 5759.10205078weight: -0.12501690bias: -0.02123583\n",
      "epoch:  2 loss: 3956.68554688weight: 0.24256074bias: -0.01019400\n",
      "epoch:  3 loss: 2720.53491211weight: 0.54696906bias: -0.00102902\n",
      "epoch:  4 loss: 1872.74536133weight: 0.79906368bias: 0.00658164\n",
      "epoch:  5 loss: 1291.30615234weight: 1.00783491bias: 0.01290510\n",
      "epoch:  6 loss: 892.53741455weight: 1.18072784bias: 0.01816256\n",
      "epoch:  7 loss: 619.05004883weight: 1.32390821bias: 0.02253722\n",
      "epoch:  8 loss: 431.48419189weight: 1.44248223bias: 0.02618078\n",
      "epoch:  9 loss: 302.84585571weight: 1.54067850bias: 0.02921888\n",
      "epoch: 10 loss: 214.62176514weight: 1.62199903bias: 0.03175558\n",
      "epoch: 11 loss: 154.11499023weight: 1.68934381bias: 0.03387703\n",
      "epoch: 12 loss: 112.61765289weight: 1.74511468bias: 0.03565460\n",
      "epoch: 13 loss: 84.15746307weight: 1.79130065bias: 0.03714738\n",
      "epoch: 14 loss: 64.63855743weight: 1.82954884bias: 0.03840432\n",
      "epoch: 15 loss: 51.25187683weight: 1.86122346bias: 0.03946594\n",
      "epoch: 16 loss: 42.07082367weight: 1.88745415bias: 0.04036580\n",
      "epoch: 17 loss: 35.77413940weight: 1.90917635bias: 0.04113172\n",
      "epoch: 18 loss: 31.45567131weight: 1.92716503bias: 0.04178669\n",
      "epoch: 19 loss: 28.49386215weight: 1.94206166bias: 0.04234979\n",
      "epoch: 20 loss: 26.46252632weight: 1.95439768bias: 0.04283680\n",
      "epoch: 21 loss: 25.06933022weight: 1.96461308bias: 0.04326081\n",
      "epoch: 22 loss: 24.11379814weight: 1.97307241bias: 0.04363263\n",
      "epoch: 23 loss: 23.45840645weight: 1.98007739bias: 0.04396123\n",
      "epoch: 24 loss: 23.00887680weight: 1.98587787bias: 0.04425405\n",
      "epoch: 25 loss: 22.70053482weight: 1.99068093bias: 0.04451722\n",
      "epoch: 26 loss: 22.48901367weight: 1.99465799bias: 0.04475584\n",
      "epoch: 27 loss: 22.34390450weight: 1.99795091bias: 0.04497414\n",
      "epoch: 28 loss: 22.24434090weight: 2.00067735bias: 0.04517559\n",
      "epoch: 29 loss: 22.17600632weight: 2.00293469bias: 0.04536310\n",
      "epoch: 30 loss: 22.12909698weight: 2.00480342bias: 0.04553906\n",
      "epoch: 31 loss: 22.09687805weight: 2.00635052bias: 0.04570546\n",
      "epoch: 32 loss: 22.07473946weight: 2.00763106bias: 0.04586393\n",
      "epoch: 33 loss: 22.05950737weight: 2.00869083bias: 0.04601584\n",
      "epoch: 34 loss: 22.04901695weight: 2.00956798bias: 0.04616231\n",
      "epoch: 35 loss: 22.04177284weight: 2.01029372bias: 0.04630428\n",
      "epoch: 36 loss: 22.03676605weight: 2.01089406bias: 0.04644252\n",
      "epoch: 37 loss: 22.03328323weight: 2.01139069bias: 0.04657768\n",
      "epoch: 38 loss: 22.03084755weight: 2.01180124bias: 0.04671027\n",
      "epoch: 39 loss: 22.02913284weight: 2.01214075bias: 0.04684074\n",
      "epoch: 40 loss: 22.02791595weight: 2.01242137bias: 0.04696945\n",
      "epoch: 41 loss: 22.02702713weight: 2.01265311bias: 0.04709671\n",
      "epoch: 42 loss: 22.02637482weight: 2.01284432bias: 0.04722276\n",
      "epoch: 43 loss: 22.02588463weight: 2.01300216bias: 0.04734781\n",
      "epoch: 44 loss: 22.02550316weight: 2.01313210bias: 0.04747203\n",
      "epoch: 45 loss: 22.02519035weight: 2.01323915bias: 0.04759556\n",
      "epoch: 46 loss: 22.02493668weight: 2.01332736bias: 0.04771852\n",
      "epoch: 47 loss: 22.02471161weight: 2.01339960bias: 0.04784101\n",
      "epoch: 48 loss: 22.02452469weight: 2.01345897bias: 0.04796310\n",
      "epoch: 49 loss: 22.02433586weight: 2.01350737bias: 0.04808486\n",
      "epoch: 50 loss: 22.02416801weight: 2.01354694bias: 0.04820636\n",
      "epoch: 51 loss: 22.02400589weight: 2.01357913bias: 0.04832763\n",
      "epoch: 52 loss: 22.02384567weight: 2.01360512bias: 0.04844871\n",
      "epoch: 53 loss: 22.02369308weight: 2.01362610bias: 0.04856963\n",
      "epoch: 54 loss: 22.02354813weight: 2.01364279bias: 0.04869042\n",
      "epoch: 55 loss: 22.02339935weight: 2.01365590bias: 0.04881111\n",
      "epoch: 56 loss: 22.02325439weight: 2.01366615bias: 0.04893170\n",
      "epoch: 57 loss: 22.02310371weight: 2.01367402bias: 0.04905222\n",
      "epoch: 58 loss: 22.02296066weight: 2.01367998bias: 0.04917267\n",
      "epoch: 59 loss: 22.02281189weight: 2.01368427bias: 0.04929307\n",
      "epoch: 60 loss: 22.02266693weight: 2.01368737bias: 0.04941342\n",
      "epoch: 61 loss: 22.02252388weight: 2.01368928bias: 0.04953373\n",
      "epoch: 62 loss: 22.02237701weight: 2.01369023bias: 0.04965401\n",
      "epoch: 63 loss: 22.02223587weight: 2.01369047bias: 0.04977426\n",
      "epoch: 64 loss: 22.02208900weight: 2.01368999bias: 0.04989448\n",
      "epoch: 65 loss: 22.02194786weight: 2.01368904bias: 0.05001468\n",
      "epoch: 66 loss: 22.02179909weight: 2.01368761bias: 0.05013486\n",
      "epoch: 67 loss: 22.02165794weight: 2.01368570bias: 0.05025503\n",
      "epoch: 68 loss: 22.02151299weight: 2.01368356bias: 0.05037518\n",
      "epoch: 69 loss: 22.02136993weight: 2.01368117bias: 0.05049532\n",
      "epoch: 70 loss: 22.02122498weight: 2.01367855bias: 0.05061544\n",
      "epoch: 71 loss: 22.02108002weight: 2.01367569bias: 0.05073556\n",
      "epoch: 72 loss: 22.02093506weight: 2.01367283bias: 0.05085567\n",
      "epoch: 73 loss: 22.02079010weight: 2.01366973bias: 0.05097576\n",
      "epoch: 74 loss: 22.02064705weight: 2.01366663bias: 0.05109585\n",
      "epoch: 75 loss: 22.02050591weight: 2.01366353bias: 0.05121593\n",
      "epoch: 76 loss: 22.02035904weight: 2.01366019bias: 0.05133601\n",
      "epoch: 77 loss: 22.02021217weight: 2.01365685bias: 0.05145607\n",
      "epoch: 78 loss: 22.02006912weight: 2.01365352bias: 0.05157613\n",
      "epoch: 79 loss: 22.01992226weight: 2.01365018bias: 0.05169618\n",
      "epoch: 80 loss: 22.01978302weight: 2.01364684bias: 0.05181623\n",
      "epoch: 81 loss: 22.01963615weight: 2.01364350bias: 0.05193626\n",
      "epoch: 82 loss: 22.01949310weight: 2.01363993bias: 0.05205629\n",
      "epoch: 83 loss: 22.01934814weight: 2.01363635bias: 0.05217632\n",
      "epoch: 84 loss: 22.01920128weight: 2.01363277bias: 0.05229634\n",
      "epoch: 85 loss: 22.01906013weight: 2.01362920bias: 0.05241635\n",
      "epoch: 86 loss: 22.01891899weight: 2.01362586bias: 0.05253636\n",
      "epoch: 87 loss: 22.01877022weight: 2.01362228bias: 0.05265636\n",
      "epoch: 88 loss: 22.01862717weight: 2.01361871bias: 0.05277635\n",
      "epoch: 89 loss: 22.01848412weight: 2.01361513bias: 0.05289634\n",
      "epoch: 90 loss: 22.01833916weight: 2.01361156bias: 0.05301632\n",
      "epoch: 91 loss: 22.01819420weight: 2.01360798bias: 0.05313630\n",
      "epoch: 92 loss: 22.01804924weight: 2.01360440bias: 0.05325627\n",
      "epoch: 93 loss: 22.01790810weight: 2.01360083bias: 0.05337624\n",
      "epoch: 94 loss: 22.01775932weight: 2.01359725bias: 0.05349620\n",
      "epoch: 95 loss: 22.01762199weight: 2.01359367bias: 0.05361615\n",
      "epoch: 96 loss: 22.01747894weight: 2.01359010bias: 0.05373611\n",
      "epoch: 97 loss: 22.01733208weight: 2.01358652bias: 0.05385605\n",
      "epoch: 98 loss: 22.01718712weight: 2.01358294bias: 0.05397598\n",
      "epoch: 99 loss: 22.01704025weight: 2.01357937bias: 0.05409592\n",
      "epoch: 100 loss: 22.01689720weight: 2.01357603bias: 0.05421584\n"
     ]
    }
   ],
   "source": [
    "epochs=100\n",
    "losses=[]\n",
    "for epoch in range(1,epochs+1):\n",
    "  optimizer.zero_grad()\n",
    "  y_pred=model(X)\n",
    "  loss=loss_function(y_pred,y)\n",
    "  losses.append(loss.item())\n",
    "  loss.backward()\n",
    "  optimizer.step()\n",
    "  print(f\"epoch: {epoch:2} loss: {loss.item():10.8f}\"\n",
    "         f\"weight: {model.linear.weight.item():10.8f}\"\n",
    "         f\"bias: {model.linear.bias.item():10.8f}\")\n"
   ]
  },
  {
   "cell_type": "code",
   "execution_count": 47,
   "id": "56a57427-1e0d-470c-b181-d1b1ef59ccb2",
   "metadata": {},
   "outputs": [
    {
     "data": {
      "image/png": "[encoded data removed]",
      "text/plain": [
       "<Figure size 640x480 with 1 Axes>"
      ]
     },
     "metadata": {},
     "output_type": "display_data"
    }
   ],
   "source": [
    "plt.plot(range(epochs),losses,color=\"Blue\")\n",
    "plt.xlabel(\"Epoch\")\n",
    "plt.ylabel(\"Loss\")\n",
    "plt.title(\"Loss Curve\")\n",
    "plt.show()"
   ]
  },
  {
   "cell_type": "code",
   "execution_count": 48,
   "id": "60f68811-064e-439d-a484-6c5ea87c8137",
   "metadata": {},
   "outputs": [
    {
     "name": "stdout",
     "output_type": "stream",
     "text": [
      "\n",
      "Name : Jeeva K\n",
      "Register No : 212223230090\n",
      "\n",
      "Final Weight : 2.01357603, Final Bias : 0.05421584\n"
     ]
    },
    {
     "data": {
      "image/png": "[encoded data removed]",
      "text/plain": [
       "<Figure size 640x480 with 1 Axes>"
      ]
     },
     "metadata": {},
     "output_type": "display_data"
    },
    {
     "name": "stdout",
     "output_type": "stream",
     "text": [
      "\n",
      "Prediction for x = 120 : 241.68333435\n"
     ]
    }
   ],
   "source": [
    "final_weight=model.linear.weight.item()\n",
    "final_bias=model.linear.bias.item()\n",
    "print(\"\\nName : Jeeva K\")\n",
    "print(\"Register No : 212223230090\")\n",
    "print(f\"\\nFinal Weight : {final_weight:.8f}, Final Bias : {final_bias:.8f}\")\n",
    "\n",
    "\n",
    "x1=torch.tensor([X.min().item(),X.max().item()])\n",
    "y1=x1*final_weight+final_bias\n",
    "\n",
    "\n",
    "plt.scatter(X,y,label=\"Original Data\")\n",
    "plt.plot(x1,y1,'r',label=\"Best=Fit line\")\n",
    "plt.xlabel('x')\n",
    "plt.ylabel('y')\n",
    "plt.title('Trained Model: Best-Fit Line')\n",
    "plt.legend()\n",
    "plt.show()\n",
    "\n",
    "x_new=torch.tensor([[120.0]])\n",
    "y_new_pred=model(x_new).item()\n",
    "\n",
    "print(f\"\\nPrediction for x = 120 : {y_new_pred:.8f}\")\n"
   ]
  }
 ],
 "metadata": {
  "kernelspec": {
   "display_name": "Python 3 (ipykernel)",
   "language": "python",
   "name": "python3"
  },
  "language_info": {
   "codemirror_mode": {
    "name": "ipython",
    "version": 3
   },
   "file_extension": ".py",
   "mimetype": "text/x-python",
   "name": "python",
   "nbconvert_exporter": "python",
   "pygments_lexer": "ipython3",
   "version": "3.10.18"
  }
 },
 "nbformat": 4,
 "nbformat_minor": 5
}
